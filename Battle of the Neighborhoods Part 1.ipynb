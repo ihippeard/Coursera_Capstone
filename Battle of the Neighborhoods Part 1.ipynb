{
    "cells": [
        {
            "cell_type": "markdown",
            "metadata": {
                "collapsed": true
            },
            "source": "# Introduction/Business Problem\nIn the hope that the Covid-19 Pandemic is nearing an end, cities will need to start looking to highlight local attractions to invite new travelers in order to reivigorate the economy. Boise, Idaho, is a popular destination not only for tourist, but for domestic migrants looking for new homes. It is one of the fastest growing cities in America.\n\nWith the help of Foursquare, the aim of the project is to highlight Boise metropolitan neighborhoods as potential areas for tourism and a unique Boise experience.\n\n"
        },
        {
            "cell_type": "markdown",
            "metadata": {},
            "source": "# Data\nThe data used for this study will be:\n\n1.Dataset of Boise neighborhoods from City of Boise, which has been prepared as a CSV file and imported.\n\nhttps://opendata.cityofboise.org/datasets/9751fb5ec88b47918ec3c0c866609f6d_0/data\n\n2.Boise Venue data through Foursquare. The Venue data will be used to segment Boise into clusters to be used for tour groups and city tourism. \n"
        },
        {
            "cell_type": "code",
            "execution_count": null,
            "metadata": {},
            "outputs": [],
            "source": ""
        }
    ],
    "metadata": {
        "kernelspec": {
            "display_name": "Python 3.7",
            "language": "python",
            "name": "python3"
        },
        "language_info": {
            "codemirror_mode": {
                "name": "ipython",
                "version": 3
            },
            "file_extension": ".py",
            "mimetype": "text/x-python",
            "name": "python",
            "nbconvert_exporter": "python",
            "pygments_lexer": "ipython3",
            "version": "3.7.9"
        }
    },
    "nbformat": 4,
    "nbformat_minor": 1
}